{
  "nbformat": 4,
  "nbformat_minor": 0,
  "metadata": {
    "colab": {
      "provenance": [],
      "include_colab_link": true
    },
    "kernelspec": {
      "name": "python3",
      "display_name": "Python 3"
    },
    "language_info": {
      "name": "python"
    }
  },
  "cells": [
    {
      "cell_type": "markdown",
      "metadata": {
        "id": "view-in-github",
        "colab_type": "text"
      },
      "source": [
        "<a href=\"https://colab.research.google.com/github/RamirexX89/Taller-1-/blob/main/Taller_2.ipynb\" target=\"_parent\"><img src=\"https://colab.research.google.com/assets/colab-badge.svg\" alt=\"Open In Colab\"/></a>"
      ]
    },
    {
      "cell_type": "markdown",
      "source": [
        "**TALLER 2 FINANZAS COMPUTACIONALES**\n",
        "\n",
        "\n",
        " *JUAN ANDRÉS ROZO*\n",
        "\n",
        "\n",
        " *JEFFREY RAMIREZ*"
      ],
      "metadata": {
        "id": "GGe2QbS3eiog"
      }
    },
    {
      "cell_type": "code",
      "source": [
        "import numpy as np\n",
        "import pandas as pd\n",
        "import cvxpy as cp\n",
        "from scipy.optimize import minimize\n",
        "from scipy.optimize import linprog"
      ],
      "metadata": {
        "id": "zGyEWPt2fVPy"
      },
      "execution_count": null,
      "outputs": []
    },
    {
      "cell_type": "markdown",
      "source": [
        "**PUNTO 1**"
      ],
      "metadata": {
        "id": "fty1bWL0eydM"
      }
    },
    {
      "cell_type": "code",
      "execution_count": null,
      "metadata": {
        "colab": {
          "base_uri": "https://localhost:8080/",
          "height": 80
        },
        "id": "HQP_viL9ehSm",
        "outputId": "29d7a267-c0f4-4c2f-bbcd-f4aaf50f6f0d"
      },
      "outputs": [
        {
          "output_type": "execute_result",
          "data": {
            "text/plain": [
              "       0      1\n",
              "0  200.0  150.0"
            ],
            "text/html": [
              "\n",
              "  <div id=\"df-0bd1800c-c1bf-445b-9019-402bfeb4221f\">\n",
              "    <div class=\"colab-df-container\">\n",
              "      <div>\n",
              "<style scoped>\n",
              "    .dataframe tbody tr th:only-of-type {\n",
              "        vertical-align: middle;\n",
              "    }\n",
              "\n",
              "    .dataframe tbody tr th {\n",
              "        vertical-align: top;\n",
              "    }\n",
              "\n",
              "    .dataframe thead th {\n",
              "        text-align: right;\n",
              "    }\n",
              "</style>\n",
              "<table border=\"1\" class=\"dataframe\">\n",
              "  <thead>\n",
              "    <tr style=\"text-align: right;\">\n",
              "      <th></th>\n",
              "      <th>0</th>\n",
              "      <th>1</th>\n",
              "    </tr>\n",
              "  </thead>\n",
              "  <tbody>\n",
              "    <tr>\n",
              "      <th>0</th>\n",
              "      <td>200.0</td>\n",
              "      <td>150.0</td>\n",
              "    </tr>\n",
              "  </tbody>\n",
              "</table>\n",
              "</div>\n",
              "      <button class=\"colab-df-convert\" onclick=\"convertToInteractive('df-0bd1800c-c1bf-445b-9019-402bfeb4221f')\"\n",
              "              title=\"Convert this dataframe to an interactive table.\"\n",
              "              style=\"display:none;\">\n",
              "        \n",
              "  <svg xmlns=\"http://www.w3.org/2000/svg\" height=\"24px\"viewBox=\"0 0 24 24\"\n",
              "       width=\"24px\">\n",
              "    <path d=\"M0 0h24v24H0V0z\" fill=\"none\"/>\n",
              "    <path d=\"M18.56 5.44l.94 2.06.94-2.06 2.06-.94-2.06-.94-.94-2.06-.94 2.06-2.06.94zm-11 1L8.5 8.5l.94-2.06 2.06-.94-2.06-.94L8.5 2.5l-.94 2.06-2.06.94zm10 10l.94 2.06.94-2.06 2.06-.94-2.06-.94-.94-2.06-.94 2.06-2.06.94z\"/><path d=\"M17.41 7.96l-1.37-1.37c-.4-.4-.92-.59-1.43-.59-.52 0-1.04.2-1.43.59L10.3 9.45l-7.72 7.72c-.78.78-.78 2.05 0 2.83L4 21.41c.39.39.9.59 1.41.59.51 0 1.02-.2 1.41-.59l7.78-7.78 2.81-2.81c.8-.78.8-2.07 0-2.86zM5.41 20L4 18.59l7.72-7.72 1.47 1.35L5.41 20z\"/>\n",
              "  </svg>\n",
              "      </button>\n",
              "      \n",
              "  <style>\n",
              "    .colab-df-container {\n",
              "      display:flex;\n",
              "      flex-wrap:wrap;\n",
              "      gap: 12px;\n",
              "    }\n",
              "\n",
              "    .colab-df-convert {\n",
              "      background-color: #E8F0FE;\n",
              "      border: none;\n",
              "      border-radius: 50%;\n",
              "      cursor: pointer;\n",
              "      display: none;\n",
              "      fill: #1967D2;\n",
              "      height: 32px;\n",
              "      padding: 0 0 0 0;\n",
              "      width: 32px;\n",
              "    }\n",
              "\n",
              "    .colab-df-convert:hover {\n",
              "      background-color: #E2EBFA;\n",
              "      box-shadow: 0px 1px 2px rgba(60, 64, 67, 0.3), 0px 1px 3px 1px rgba(60, 64, 67, 0.15);\n",
              "      fill: #174EA6;\n",
              "    }\n",
              "\n",
              "    [theme=dark] .colab-df-convert {\n",
              "      background-color: #3B4455;\n",
              "      fill: #D2E3FC;\n",
              "    }\n",
              "\n",
              "    [theme=dark] .colab-df-convert:hover {\n",
              "      background-color: #434B5C;\n",
              "      box-shadow: 0px 1px 3px 1px rgba(0, 0, 0, 0.15);\n",
              "      filter: drop-shadow(0px 1px 2px rgba(0, 0, 0, 0.3));\n",
              "      fill: #FFFFFF;\n",
              "    }\n",
              "  </style>\n",
              "\n",
              "      <script>\n",
              "        const buttonEl =\n",
              "          document.querySelector('#df-0bd1800c-c1bf-445b-9019-402bfeb4221f button.colab-df-convert');\n",
              "        buttonEl.style.display =\n",
              "          google.colab.kernel.accessAllowed ? 'block' : 'none';\n",
              "\n",
              "        async function convertToInteractive(key) {\n",
              "          const element = document.querySelector('#df-0bd1800c-c1bf-445b-9019-402bfeb4221f');\n",
              "          const dataTable =\n",
              "            await google.colab.kernel.invokeFunction('convertToInteractive',\n",
              "                                                     [key], {});\n",
              "          if (!dataTable) return;\n",
              "\n",
              "          const docLinkHtml = 'Like what you see? Visit the ' +\n",
              "            '<a target=\"_blank\" href=https://colab.research.google.com/notebooks/data_table.ipynb>data table notebook</a>'\n",
              "            + ' to learn more about interactive tables.';\n",
              "          element.innerHTML = '';\n",
              "          dataTable['output_type'] = 'display_data';\n",
              "          await google.colab.output.renderOutput(dataTable, element);\n",
              "          const docLink = document.createElement('div');\n",
              "          docLink.innerHTML = docLinkHtml;\n",
              "          element.appendChild(docLink);\n",
              "        }\n",
              "      </script>\n",
              "    </div>\n",
              "  </div>\n",
              "  "
            ]
          },
          "metadata": {},
          "execution_count": 6
        }
      ],
      "source": [
        "# Función objetivo\n",
        "\n",
        "c = [-3, -5]\n",
        "\n",
        "# Restricciones de desigualdad\n",
        "\n",
        "A = [[1, 1], [2, 4], [1, 2], [-1, 0], [0, -1]]\n",
        "b = [500, 1000, 2000, -100, -150]\n",
        "\n",
        "# Límites \n",
        "\n",
        "bounds2 = [(  100,    None),\n",
        "              (150, None),]\n",
        "\n",
        "# Resolucion\n",
        "\n",
        "res = linprog(c, A_ub=A, b_ub=b, bounds=bounds2)\n",
        "Produccion_optima=pd.DataFrame(res.x).T\n",
        "Produccion_optima\n"
      ]
    },
    {
      "cell_type": "markdown",
      "source": [
        "La asignación que máximiza las ganancias de la empresas es de 200 unidades de A y 150 unidades de B"
      ],
      "metadata": {
        "id": "2SYVNoOQgvvR"
      }
    },
    {
      "cell_type": "markdown",
      "source": [
        "**PUNTO 2**"
      ],
      "metadata": {
        "id": "bUqPukFNe3E7"
      }
    },
    {
      "cell_type": "code",
      "source": [
        "# Función objetivo\n",
        "c = np.array([-0.1, -0.15, -0.16, -0.08])\n",
        "\n",
        "# Restricciones de igualdad\n",
        "A = np.array([[1, 1, 1, 1]])\n",
        "B = np.array([100])\n",
        "\n",
        "# Restricciones de desigualdad\n",
        "C = np.array([[0.5, 0.3, 0.25, 0.6],\n",
        "        [0.3, 0.1, 0.4, 0.2],\n",
        "        [0.2, 0.6, 0.35, 0.2]])\n",
        "D = np.array([35, 30, 35])\n",
        "\n",
        "# Límites\n",
        "bounds = [(0, None), (0, None), (0, None), (0, None)]\n",
        "\n",
        "# Resolución\n",
        "res = linprog(c, A_eq=A, b_eq=B, A_ub=C, b_ub=D, bounds=bounds, method='revised simplex')\n",
        "Asignaciones=(pd.DataFrame(res.x).T).round(2)\n",
        "Retorno_esperado=sum((res.x).T*-c).round(2)\n",
        "\n",
        "Asignaciones, Retorno_esperado"
      ],
      "metadata": {
        "colab": {
          "base_uri": "https://localhost:8080/"
        },
        "id": "arpEzc2Ee2rp",
        "outputId": "e0df0366-a0b8-487f-ab33-4f9c2ee1479e"
      },
      "execution_count": null,
      "outputs": [
        {
          "output_type": "stream",
          "name": "stderr",
          "text": [
            "<ipython-input-7-d215ecbcb737>:18: DeprecationWarning: `method='revised simplex'` is deprecated and will be removed in SciPy 1.11.0. Please use one of the HiGHS solvers (e.g. `method='highs'`) in new code.\n",
            "  res = linprog(c, A_eq=A, b_eq=B, A_ub=C, b_ub=D, bounds=bounds, method='revised simplex')\n"
          ]
        },
        {
          "output_type": "execute_result",
          "data": {
            "text/plain": [
              "(     0      1      2      3\n",
              " 0  0.0  15.79  57.89  26.32, 13.74)"
            ]
          },
          "metadata": {},
          "execution_count": 7
        }
      ]
    },
    {
      "cell_type": "code",
      "source": [
        "#Usando CVXPY\n",
        "\n",
        "n = 4\n",
        "x = cp.Variable(4)\n",
        "obj = cp.Minimize(c@x)\n",
        "rest = [A @ x >= B, C @ x <= D, x[0:4]>=0]\n",
        "prob =  cp.Problem(obj,rest)\n",
        "prob.solve()\n",
        "\n",
        "print(\"El retorno esperado es\", prob.value)\n",
        "print(round(pd.DataFrame(x.value),1))\n"
      ],
      "metadata": {
        "colab": {
          "base_uri": "https://localhost:8080/"
        },
        "id": "82GNwmUFe-zc",
        "outputId": "2d69140d-96b1-40b9-90f5-bab643e61d16"
      },
      "execution_count": null,
      "outputs": [
        {
          "output_type": "stream",
          "name": "stdout",
          "text": [
            "El retorno esperado es -13.736842104494341\n",
            "      0\n",
            "0   0.0\n",
            "1  15.8\n",
            "2  57.9\n",
            "3  26.3\n"
          ]
        }
      ]
    },
    {
      "cell_type": "markdown",
      "source": [
        "La asignación factible con el retorno esperado más alto es de 15,8 millones para el Fondo 2, 57,89 millones para el Fondo 3 y 26,32 millones para el Fondo 4, con un retorno esperado de $13,74 millones "
      ],
      "metadata": {
        "id": "AMJyWNMnhC2U"
      }
    },
    {
      "cell_type": "markdown",
      "source": [
        "**PUNTO 3**"
      ],
      "metadata": {
        "id": "gsezXW78e7bw"
      }
    },
    {
      "cell_type": "code",
      "source": [
        "\n",
        "# Función objetivo\n",
        "c = np.array([0,0,0,0,0,0,0,0,0,0,0,0,0,1])\n",
        "\n",
        "#Restricciones de iguldad \n",
        "\n",
        "A = np.array([[1,0,0,0,0,1,0,0,-1,0,0,0,0,0],[-1.01,1,0,0,0,0,1,0,1.003,-1,0,0,0,0],[0,-1.01,1,0,0,0,0,1,0,1.003,-1,0,0,0],[0,0,-1.01,1,0,-1.02,0,0,0,0,1.003,-1,0,0],[0,0,0,-1.01,1,0,-1.02,0,0,0,0,1.003,-1,0],[0,0,0,0,-1.01,0,0,-1.02,0,0,0,0,1.003,-1]])\n",
        "B = np.array([150,100,-200,200,-50,-300])\n",
        "\n",
        "#Limites\n",
        "\n",
        "bounds = [(0, 100), (0, 100),(0, 100),(0, 100),(0, 100), (0, None),(0, None),(0, None),(0, None),(0, None),(0, None),(0, None),(0, None),(0, None)]\n",
        "\n",
        "# Resolución\n",
        "\n",
        "res = linprog(-c, A_eq=A, b_eq=B, bounds=bounds, method='revised simplex')\n",
        "Credito=(pd.DataFrame(res.x)[0:4].T).round(2)\n",
        "Bonos=(pd.DataFrame(res.x)[5:9].T).round(2)\n",
        "Excedente=(pd.DataFrame(res.x)[8:12].T).round(2)\n",
        "Saldo_mes6=res.x[13].round(4)\n",
        "\n",
        "Saldo_mes6, Credito, Bonos, Excedente"
      ],
      "metadata": {
        "colab": {
          "base_uri": "https://localhost:8080/"
        },
        "id": "QK-hOmyRe6yE",
        "outputId": "6b219b1a-51b3-4d00-dc7f-58ec7bdd6b18"
      },
      "execution_count": null,
      "outputs": [
        {
          "output_type": "stream",
          "name": "stderr",
          "text": [
            "<ipython-input-9-f01aaae65845>:15: DeprecationWarning: `method='revised simplex'` is deprecated and will be removed in SciPy 1.11.0. Please use one of the HiGHS solvers (e.g. `method='highs'`) in new code.\n",
            "  res = linprog(-c, A_eq=A, b_eq=B, bounds=bounds, method='revised simplex')\n"
          ]
        },
        {
          "output_type": "execute_result",
          "data": {
            "text/plain": [
              "(92.4969,      0      1    2    3\n",
              " 0  0.0  50.98  0.0  0.0,        5      6       7    8\n",
              " 0  150.0  49.02  203.43  0.0,     8    9       10   11\n",
              " 0  0.0  0.0  351.94  0.0)"
            ]
          },
          "metadata": {},
          "execution_count": 9
        }
      ]
    },
    {
      "cell_type": "code",
      "source": [
        "#Usando CVXPY\n",
        "\n",
        "n = 14\n",
        "x = cp.Variable(n)\n",
        "obj = cp.Maximize(c@x)\n",
        "rest = [A @ x >= B, x[0:5]<=100, x[0:13]>=0]\n",
        "prob =  cp.Problem(obj,rest)\n",
        "prob.solve()"
      ],
      "metadata": {
        "colab": {
          "base_uri": "https://localhost:8080/"
        },
        "id": "C8koGAMcfHCn",
        "outputId": "ef08841b-5cd8-47c6-94c2-f43134122954"
      },
      "execution_count": null,
      "outputs": [
        {
          "output_type": "execute_result",
          "data": {
            "text/plain": [
              "92.49694914810405"
            ]
          },
          "metadata": {},
          "execution_count": 10
        }
      ]
    },
    {
      "cell_type": "markdown",
      "source": [
        "Para maximizar el saldo se debe emitir papeles comercial los primeros tres meses, y acudir a la linea de credito en el 2 mes. Esto permite un saldo máximo de 92.49 millones de pesos para el sexto mes"
      ],
      "metadata": {
        "id": "tlx9vgOehi2w"
      }
    },
    {
      "cell_type": "markdown",
      "source": [
        "**PUNTO 4**"
      ],
      "metadata": {
        "id": "FoXhYw2xfJ_F"
      }
    },
    {
      "cell_type": "code",
      "source": [
        "#Función Objetivo\n",
        "c=np.array([0, 0, 0, 0, 0, 0, 0, 1])\n",
        "\n",
        "#Restricciones de igualdad \n",
        "\n",
        "rate = (1+0.0001)**7\n",
        "\n",
        "A = np.array([[1, 0, 0, 0, -1, 0, 0, 0],\n",
        "              [0, 1, 0, 0, rate, -1, 0, 0],\n",
        "              [0, 0, 1, 0, 0, rate, -1, 0],\n",
        "              [0, 0, 0, 1, 0, 0, rate, -1]])\n",
        "\n",
        "B = np.array([[150, -100, -50, 200]])\n",
        "\n",
        "#Resolución\n",
        "\n",
        "res = linprog(-c, A_ub=A, b_ub=-B, method='revised simplex')\n",
        "inversion= pd.DataFrame(res.x)[4:8].T\n",
        "inversion\n",
        "\n",
        "Ganancias_estrategia=inversion[7]*rate-inversion[7]\n",
        "\n",
        "inversion, Ganancias_estrategia\n"
      ],
      "metadata": {
        "colab": {
          "base_uri": "https://localhost:8080/"
        },
        "id": "M4vd6gP5fMGD",
        "outputId": "51fca9cc-7d1c-4c58-d1bc-2053e41aa268"
      },
      "execution_count": null,
      "outputs": [
        {
          "output_type": "stream",
          "name": "stderr",
          "text": [
            "<ipython-input-11-532dfd84f41b>:17: DeprecationWarning: `method='revised simplex'` is deprecated and will be removed in SciPy 1.11.0. Please use one of the HiGHS solvers (e.g. `method='highs'`) in new code.\n",
            "  res = linprog(-c, A_ub=A, b_ub=-B, method='revised simplex')\n"
          ]
        },
        {
          "output_type": "execute_result",
          "data": {
            "text/plain": [
              "(       4          5         6           7\n",
              " 0  150.0  50.105032  0.140116  200.140214, 0    0.14014\n",
              " Name: 7, dtype: float64)"
            ]
          },
          "metadata": {},
          "execution_count": 11
        }
      ]
    },
    {
      "cell_type": "markdown",
      "source": [
        "Para maximizar la rentabilidad total de los saldos se debe invertir la totalidad de los saldos cada mes, esto permite que para la 4 semana haya una ganancia de $0.14"
      ],
      "metadata": {
        "id": "RKyKxwXJj9Qw"
      }
    },
    {
      "cell_type": "markdown",
      "source": [
        "**PUNTO 5**"
      ],
      "metadata": {
        "id": "S5NiJ5grfPO9"
      }
    },
    {
      "cell_type": "code",
      "source": [
        "#Funcion objetivo \n",
        "\n",
        "c = np.array([0,2010,1600,0,1000,1000,])\n",
        "\n",
        "#Restricciones de igualdad \n",
        "\n",
        "C = np.array([[1,1,1,0,0,0.],\n",
        "              [0,0,0,1,1,1],\n",
        "              [0,1,0,0,0,0],\n",
        "              [0,0,1,0,0,0],\n",
        "              [0,0,0,1,0,0]])\n",
        "\n",
        "D = np.array([1000,10000,300,250,2000])\n",
        "\n",
        "#Limites \n",
        "\n",
        "bounds = [(0, None),(0, None),(0, None),(2000, None),(2000, None),(2000, None)]\n",
        "\n",
        "#Resolucion \n",
        "\n",
        "res = linprog(-c, A_eq=C, b_eq=D, bounds=bounds, method='revised simplex')\n",
        "\n",
        "Mano_obra=pd.DataFrame(res.x)[0:3].T\n",
        "Presupuesto=pd.DataFrame(res.x)[3:6].T\n",
        "\n",
        "Ganancia_Total=sum((res.x)[3:6]*np.array([5,8,10]))\n",
        "\n",
        "Ganancia_Total, Mano_obra, Presupuesto"
      ],
      "metadata": {
        "colab": {
          "base_uri": "https://localhost:8080/"
        },
        "id": "3Ex3_kytfQUR",
        "outputId": "dd42ade2-e387-44f9-e0e5-059ffd22fb5b"
      },
      "execution_count": null,
      "outputs": [
        {
          "output_type": "stream",
          "name": "stderr",
          "text": [
            "<ipython-input-12-7688ed2ec66f>:21: DeprecationWarning: `method='revised simplex'` is deprecated and will be removed in SciPy 1.11.0. Please use one of the HiGHS solvers (e.g. `method='highs'`) in new code.\n",
            "  res = linprog(-c, A_eq=C, b_eq=D, bounds=bounds, method='revised simplex')\n"
          ]
        },
        {
          "output_type": "execute_result",
          "data": {
            "text/plain": [
              "(86000.0,        0      1      2\n",
              " 0  450.0  300.0  250.0,         3       4       5\n",
              " 0  2000.0  2000.0  6000.0)"
            ]
          },
          "metadata": {},
          "execution_count": 12
        }
      ]
    },
    {
      "cell_type": "markdown",
      "source": [
        "Para máximizar las ganancias se debe invertir 2.000 en el dpto de ventas, 2.000 para el dpto de Marketing y 6.000 en el dpto de produccion, para obtener una ganancia total de $86.000"
      ],
      "metadata": {
        "id": "YyTDmswikQ_v"
      }
    }
  ]
}